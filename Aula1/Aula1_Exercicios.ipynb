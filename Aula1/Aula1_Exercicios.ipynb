{
 "cells": [
  {
   "cell_type": "markdown",
   "metadata": {},
   "source": [
    "# Aula 1 - Exercícios - Sintaxe de Python e NumPy Array\n",
    "### Consulta a internet (Google, Stackoverflow e etc) liberada!!"
   ]
  },
  {
   "cell_type": "markdown",
   "metadata": {},
   "source": [
    "#### Fonte dos exercícios:\n",
    "1 - https://www.w3resource.com/python-exercises/python-basic-exercises.php\n",
    "\n",
    "2 - https://www.practicepython.org/    "
   ]
  },
  {
   "cell_type": "markdown",
   "metadata": {},
   "source": [
    "### 1.1 Escreva uma função em Python que aceite um inteiro (n) de 1 a 9 e computa o valor de: n+nn+nnn\n",
    "##### Exemplo: n=5. Então n + nn + nnn = 5 + 55 + 555 = 615"
   ]
  },
  {
   "cell_type": "code",
   "execution_count": 4,
   "metadata": {
    "nbgrader": {
     "grade": false,
     "grade_id": "cell-a2f686fdd79e4f51",
     "locked": false,
     "schema_version": 3,
     "solution": true,
     "task": false
    }
   },
   "outputs": [],
   "source": [
    "def calculo_n(n):\n",
    "    \"\"\"retorne o valor de: n+nn+nnn\n",
    "    \"\"\"\n",
    "    ### BEGIN SOLUTION\n",
    "    return n + int('{0}{0}'.format(n,n)) + int('{0}{0}{0}'.format(n,n,n))\n",
    "    ### END SOLUTION"
   ]
  },
  {
   "cell_type": "code",
   "execution_count": 5,
   "metadata": {},
   "outputs": [
    {
     "data": {
      "text/plain": [
       "1107"
      ]
     },
     "execution_count": 5,
     "metadata": {},
     "output_type": "execute_result"
    }
   ],
   "source": [
    "## Faça seus testes aqui\n",
    "calculo_n(9)"
   ]
  },
  {
   "cell_type": "code",
   "execution_count": 6,
   "metadata": {
    "nbgrader": {
     "grade": true,
     "grade_id": "cell-5412543179b17057",
     "locked": true,
     "points": 1,
     "schema_version": 3,
     "solution": false,
     "task": false
    }
   },
   "outputs": [],
   "source": [
    "# Validação para nota\n",
    "assert calculo_n(1) == 123\n",
    "assert calculo_n(2) == 246\n",
    "assert calculo_n(3) == 369\n",
    "assert calculo_n(9) == 1107"
   ]
  },
  {
   "cell_type": "markdown",
   "metadata": {},
   "source": [
    "### 1.2 Escreva uma função para retornar o maior item de uma lista de inteiros"
   ]
  },
  {
   "cell_type": "code",
   "execution_count": 11,
   "metadata": {
    "nbgrader": {
     "grade": false,
     "grade_id": "cell-2e044a5f0541da37",
     "locked": false,
     "schema_version": 3,
     "solution": true,
     "task": false
    }
   },
   "outputs": [],
   "source": [
    "# Dica: use float('-inf') para representar um número negativo infinito\n",
    "def maior(lista):\n",
    "    \"\"\"retorne o maior item da lista\n",
    "    \"\"\"\n",
    "    ### BEGIN SOLUTION\n",
    "    result = float('-inf')\n",
    "    for n in lista:\n",
    "        if result < n:\n",
    "            result = n\n",
    "    \n",
    "    return result\n",
    "    ### END SOLUTION"
   ]
  },
  {
   "cell_type": "code",
   "execution_count": 16,
   "metadata": {},
   "outputs": [],
   "source": [
    "## Faça seus testes aqui\n"
   ]
  },
  {
   "cell_type": "code",
   "execution_count": 17,
   "metadata": {
    "nbgrader": {
     "grade": true,
     "grade_id": "cell-5bd4079b37b6a7f3",
     "locked": true,
     "points": 1,
     "schema_version": 3,
     "solution": false,
     "task": false
    }
   },
   "outputs": [],
   "source": [
    "# Validação para nota\n",
    "assert maior([1,0,-1,100,7]) == 100\n",
    "assert maior([-100,-1580,-1,-9100,-77]) == -1"
   ]
  },
  {
   "cell_type": "markdown",
   "metadata": {},
   "source": [
    "### 1.3 Escreva uma função contar a quantidade de strings, presentes numa lista, cujo tamanho é maior que 2 e o primeiro e último caracteres são os mesmos\n",
    "\n",
    "#### Exemplo:  ['abc', 'xyz', 'aba', '1221']\n",
    "#### Resultado esperado : 2\n"
   ]
  },
  {
   "cell_type": "code",
   "execution_count": 18,
   "metadata": {
    "nbgrader": {
     "grade": false,
     "grade_id": "cell-5420c3983940f212",
     "locked": false,
     "schema_version": 3,
     "solution": true,
     "task": false
    }
   },
   "outputs": [],
   "source": [
    "# Dica 1: A função len retorna o tamanho da string. Exemplo: len('abc'), retorna 3\n",
    "# Dica 2: Uma string é uma lista de caracteres\n",
    "def contagem(lista):\n",
    "    \"\"\"retorne o maior item da lista\n",
    "    \"\"\"\n",
    "    ### BEGIN SOLUTION\n",
    "    qtd = 0\n",
    "    for l in lista:\n",
    "        if len(l) > 2 and l[0]==l[-1]:\n",
    "            qtd = qtd + 1\n",
    "    \n",
    "    return qtd\n",
    "    ### END SOLUTION"
   ]
  },
  {
   "cell_type": "code",
   "execution_count": 13,
   "metadata": {},
   "outputs": [],
   "source": [
    "## Faça seus testes aqui\n",
    "\n"
   ]
  },
  {
   "cell_type": "code",
   "execution_count": 15,
   "metadata": {
    "nbgrader": {
     "grade": true,
     "grade_id": "cell-f86ec02e2bcb84c6",
     "locked": true,
     "points": 1,
     "schema_version": 3,
     "solution": false,
     "task": false
    },
    "scrolled": true
   },
   "outputs": [],
   "source": [
    "# Validação para nota\n",
    "assert contagem(['abc', 'xyz', 'aba', '1221']) == 2\n",
    "assert contagem(['ac', '1111', 'aasdfsdfdda', '12ewwww21']) == 3\n",
    "assert contagem(['', 'xyzaaaaaaaaa', 'aa', 'babababa']) == 0"
   ]
  },
  {
   "cell_type": "markdown",
   "metadata": {},
   "source": [
    "### 1.4 Escreva uma função Python para gerar um dicionário que contenha um número (entre 1 e n) no formato (x, x * x). \n",
    "#### Exemplo:  Para n = 5\n",
    "#### Resultado Esperado: {1: 1, 2: 4, 3: 9, 4: 16, 5: 25}"
   ]
  },
  {
   "cell_type": "code",
   "execution_count": 4,
   "metadata": {
    "nbgrader": {
     "grade": false,
     "grade_id": "cell-bb9537795a06bd7e",
     "locked": false,
     "schema_version": 3,
     "solution": true,
     "task": false
    }
   },
   "outputs": [],
   "source": [
    "# Dica: use a função range para criar a sequencia de numeros desejados\n",
    "def create_dict(n):\n",
    "    \"\"\"retorne um dicionário com pares (x, x*x)\n",
    "    \"\"\"\n",
    "    ### BEGIN SOLUTION\n",
    "    d = {}\n",
    "\n",
    "    for x in range(1,n+1):\n",
    "        d[x]=x*x\n",
    "    return d\n",
    "    ### END SOLUTION"
   ]
  },
  {
   "cell_type": "code",
   "execution_count": 5,
   "metadata": {},
   "outputs": [],
   "source": [
    "## Faça seus testes aqui\n",
    "\n"
   ]
  },
  {
   "cell_type": "code",
   "execution_count": 6,
   "metadata": {
    "nbgrader": {
     "grade": true,
     "grade_id": "cell-61d03fd9d1b0eb4e",
     "locked": true,
     "points": 1,
     "schema_version": 3,
     "solution": false,
     "task": false
    }
   },
   "outputs": [],
   "source": [
    "# Validação para nota\n",
    "assert create_dict(5) == {1: 1, 2: 4, 3: 9, 4: 16, 5: 25}\n"
   ]
  },
  {
   "cell_type": "markdown",
   "metadata": {},
   "source": [
    "### 1.5 Escreva uma função Python para remover itens duplicados de um dicionário, ou seja, cujos valores estejam duplicados.\n",
    "#### Exemplo:  d =  {1: 1, 2: 1, 3: 9, 4: 1, 5: 25}\n",
    "#### Resultado Esperado: {1: 1, 3: 9, 5: 25}"
   ]
  },
  {
   "cell_type": "code",
   "execution_count": 26,
   "metadata": {
    "nbgrader": {
     "grade": false,
     "grade_id": "cell-1ff4485b8100a753",
     "locked": false,
     "schema_version": 3,
     "solution": true,
     "task": false
    }
   },
   "outputs": [],
   "source": [
    "def remove_duplicates(data):\n",
    "    \"\"\"retorne um dicionário sem duplicatas\n",
    "    \"\"\"\n",
    "    ### BEGIN SOLUTION\n",
    "    result = {}\n",
    "\n",
    "    for key,value in data.items():\n",
    "        if value not in result.values():\n",
    "            result[key] = value\n",
    "    return result\n",
    "    ### END SOLUTION"
   ]
  },
  {
   "cell_type": "code",
   "execution_count": 27,
   "metadata": {},
   "outputs": [],
   "source": [
    "## Faça seus testes aqui\n",
    "\n"
   ]
  },
  {
   "cell_type": "code",
   "execution_count": 28,
   "metadata": {
    "nbgrader": {
     "grade": true,
     "grade_id": "cell-b6c3a5db7e709b2a",
     "locked": true,
     "points": 1,
     "schema_version": 3,
     "solution": false,
     "task": false
    }
   },
   "outputs": [],
   "source": [
    "# Validação para nota\n",
    "assert remove_duplicates({1: 1, 2: 1, 3: 9, 4: 1, 5: 25}) ==  {1: 1, 3: 9, 5: 25}\n",
    "data = {'id1': {'name': ['Sara'], 'class': ['V'], 'subject_integration': ['english, math, science']},\n",
    "        'id2': {'name': ['David'], 'class': ['V'], 'subject_integration': ['english, math, science']},\n",
    "        'id3': {'name': ['Sara'], 'class': ['V'], 'subject_integration': ['english, math, science']},\n",
    "        'id4': {'name': ['Surya'], 'class': ['V'], 'subject_integration': ['english, math, science']}\n",
    "}\n",
    "no_duplicates = {'id1': {'name': ['Sara'], 'class': ['V'], 'subject_integration': ['english, math, science']}, \n",
    "                 'id2': {'name': ['David'], 'class': ['V'], 'subject_integration': ['english, math, science']}, \n",
    "                 'id4': {'name': ['Surya'], 'class': ['V'], 'subject_integration': ['english, math, science']}}\n",
    "assert remove_duplicates(data) == no_duplicates\n"
   ]
  },
  {
   "cell_type": "markdown",
   "metadata": {},
   "source": [
    "### 1.6 Escreva uma função Python para combinar os itens de mesma chave de uma lista de  dicionários, somando os valores correspondentes.\n",
    "##### Exemplo:  para [{'item': 'item1', 'quantidade': 400}, {'item': 'item2', 'quantidade': 300}, {'item': 'item1', 'quantidade': 750}]\n",
    "##### Resultado esperado: {'item1': 1150, 'item2': 300}"
   ]
  },
  {
   "cell_type": "code",
   "execution_count": 35,
   "metadata": {
    "nbgrader": {
     "grade": false,
     "grade_id": "cell-e69a127f71184645",
     "locked": false,
     "schema_version": 3,
     "solution": true,
     "task": false
    }
   },
   "outputs": [],
   "source": [
    "def combine_items(item_list):\n",
    "    \"\"\"retorne um dicionário combinando (somando) as quantidades do mesmo item\n",
    "    \"\"\"\n",
    "    ### BEGIN SOLUTION\n",
    "    result = {}\n",
    "\n",
    "    for i in item_list:\n",
    "        if i['item'] in result:\n",
    "            result[i['item']] += i['quantidade']\n",
    "        else:\n",
    "            result[i['item']] = i['quantidade']\n",
    "    return result\n",
    "    ### END SOLUTION"
   ]
  },
  {
   "cell_type": "code",
   "execution_count": 36,
   "metadata": {},
   "outputs": [],
   "source": [
    "## Faça seus testes aqui\n",
    "\n"
   ]
  },
  {
   "cell_type": "code",
   "execution_count": 37,
   "metadata": {
    "nbgrader": {
     "grade": true,
     "grade_id": "cell-418c099df61d368b",
     "locked": true,
     "points": 1,
     "schema_version": 3,
     "solution": false,
     "task": false
    }
   },
   "outputs": [],
   "source": [
    "# Validação para nota\n",
    "input_data = [{'item': 'item1', 'quantidade': 400}, \n",
    "              {'item': 'item2', 'quantidade': 300}, \n",
    "              {'item': 'item1', 'quantidade': 750}]\n",
    "output_result = {'item1': 1150, 'item2': 300}\n",
    "assert combine_items(input_data) == output_result\n"
   ]
  },
  {
   "cell_type": "markdown",
   "metadata": {},
   "source": [
    "### 1.7 Escreva uma função Python para contar a quantidade de itens de um dado valor num array NumPy\n",
    "#### Exemplo:  para um array([1  4  10  8  4  20  23]) e n=4\n",
    "#### Resultado esperado: 2\n",
    "#### Obs.: Lembre-se de usar funções numpy que realizam as operações sem a necessidade de escrever laços (loops)"
   ]
  },
  {
   "cell_type": "code",
   "execution_count": 1,
   "metadata": {},
   "outputs": [],
   "source": [
    "# import numpy\n",
    "import numpy as np"
   ]
  },
  {
   "cell_type": "code",
   "execution_count": 52,
   "metadata": {
    "nbgrader": {
     "grade": false,
     "grade_id": "cell-f6c50b3e165db993",
     "locked": false,
     "schema_version": 3,
     "solution": true,
     "task": false
    }
   },
   "outputs": [],
   "source": [
    "# Dica: A função count_nonzero do pacote numpy conta a quantidade \n",
    "#       de elementos diferentes de zero ou a quantidade de elementos True.\n",
    "\n",
    "def count_value(array, n):\n",
    "    \"\"\"retorne a quantidade de vezes que n ocorre \n",
    "    \"\"\"\n",
    "    ### BEGIN SOLUTION\n",
    "    return np.count_nonzero(array == n)\n",
    "    ### END SOLUTION"
   ]
  },
  {
   "cell_type": "code",
   "execution_count": 53,
   "metadata": {},
   "outputs": [],
   "source": [
    "## Faça seus testes aqui\n",
    "\n"
   ]
  },
  {
   "cell_type": "code",
   "execution_count": 64,
   "metadata": {
    "nbgrader": {
     "grade": true,
     "grade_id": "cell-401910203dadc4db",
     "locked": true,
     "points": 1,
     "schema_version": 3,
     "solution": false,
     "task": false
    }
   },
   "outputs": [],
   "source": [
    "# Validação para nota\n",
    "a1 = np.array([1,0,1,9,5,3,1,2,4,5,6,1,2,3,4,8,9,2,1])\n",
    "assert count_value(a1, 1) == 5\n"
   ]
  },
  {
   "cell_type": "markdown",
   "metadata": {},
   "source": [
    "### 1.8 Escreva uma função Python para somar os valores de cada linha de um array numpy 2D e depois retornar a maior destas somas\n",
    "#### Exemplo:  para um array([[1  4 ], [10  8], [4  20]]) \n",
    "#### Resultado esperado: 24"
   ]
  },
  {
   "cell_type": "code",
   "execution_count": 65,
   "metadata": {
    "nbgrader": {
     "grade": false,
     "grade_id": "cell-f7b05dc12adbf2e2",
     "locked": false,
     "schema_version": 3,
     "solution": true,
     "task": false
    }
   },
   "outputs": [],
   "source": [
    "# Dica: A função sum do numpy pode fazer o calculo da soma por linha ou por coluna, \n",
    "#       desde que o parâmetro axis seja especificado corretamente.\n",
    "def max_sum(x):\n",
    "    \"\"\"retorne o valor maximo dentre os resultados da soma por linha de um array 2D \n",
    "    \"\"\"\n",
    "    ### BEGIN SOLUTION\n",
    "    total_by_line = np.sum(x, axis=1)\n",
    "    return np.max(total_by_line)\n",
    "    ### END SOLUTION"
   ]
  },
  {
   "cell_type": "code",
   "execution_count": 66,
   "metadata": {},
   "outputs": [],
   "source": [
    "## Faça seus testes aqui\n",
    "\n"
   ]
  },
  {
   "cell_type": "code",
   "execution_count": 63,
   "metadata": {
    "nbgrader": {
     "grade": true,
     "grade_id": "cell-af1b0435b6aacc9b",
     "locked": true,
     "points": 1,
     "schema_version": 3,
     "solution": false,
     "task": false
    }
   },
   "outputs": [],
   "source": [
    "# Validação para nota\n",
    "a1 = np.array([[1, 4 ], [10, 8], [4, 20]])\n",
    "a2 = np.array([[1,0,1,9,5],[3,1,2,4,5],[6,1,2,3,4],[8,9,2,1,7]])\n",
    "assert max_sum(a1) == 24\n",
    "assert max_sum(a2) == 27"
   ]
  },
  {
   "cell_type": "code",
   "execution_count": null,
   "metadata": {},
   "outputs": [],
   "source": []
  },
  {
   "cell_type": "markdown",
   "metadata": {},
   "source": [
    "### 1.9 Escreva uma função Python para criar um array numpy 2D com 1s nos elementos das bordas e com 0s no interior. O tamanho do array deve ser parametrizável.\n",
    "#### Exemplo:  para um n=3\n",
    "#### Resultado esperado: array([[1, 1, 1], [1, 0, 1], [1, 1, 1]])"
   ]
  },
  {
   "cell_type": "code",
   "execution_count": 2,
   "metadata": {
    "nbgrader": {
     "grade": false,
     "grade_id": "cell-513f2b547866e072",
     "locked": false,
     "schema_version": 3,
     "solution": true,
     "task": false
    }
   },
   "outputs": [],
   "source": [
    "# Dica: A função ones do pacote numpy cria um array de 1s\n",
    "def create_array(n):\n",
    "    \"\"\"retorne um array 2d preenchido com 1s nas bordas e 0s no interior \n",
    "    \"\"\"\n",
    "    ### BEGIN SOLUTION\n",
    "    x = np.ones((n,n))\n",
    "    x[1:-1,1:-1] = 0\n",
    "    return x\n",
    "    ### END SOLUTION"
   ]
  },
  {
   "cell_type": "code",
   "execution_count": 3,
   "metadata": {},
   "outputs": [],
   "source": [
    "## Faça seus testes aqui\n",
    "\n"
   ]
  },
  {
   "cell_type": "code",
   "execution_count": 4,
   "metadata": {
    "nbgrader": {
     "grade": true,
     "grade_id": "cell-73baa7b9cc0314dc",
     "locked": true,
     "points": 1,
     "schema_version": 3,
     "solution": false,
     "task": false
    }
   },
   "outputs": [],
   "source": [
    "# Validação para nota\n",
    "a3 = np.array([[1, 1, 1], [1, 0, 1], [1, 1, 1]])\n",
    "a6 = np.array([[1., 1., 1., 1., 1., 1.],\n",
    "       [1., 0., 0., 0., 0., 1.],\n",
    "       [1., 0., 0., 0., 0., 1.],\n",
    "       [1., 0., 0., 0., 0., 1.],\n",
    "       [1., 0., 0., 0., 0., 1.],\n",
    "       [1., 1., 1., 1., 1., 1.]])\n",
    "assert (create_array(3) == a3).all()\n",
    "assert (create_array(6) == a6).all()\n",
    "\n"
   ]
  },
  {
   "cell_type": "markdown",
   "metadata": {},
   "source": [
    "### 1.10 Escreva uma função Python para converter para celcius um array de temperaturas em Fahrenheit. Arredonde o resultado até 2a casa decimal usando a função .round(decimals=2) do numpy\n",
    "#### Exemplo:  para um array([0, 12, 45.21, 34, 99.91])\n",
    "#### Resultado esperado: array([-17.77, -11.11, 7.33, 1.11, 37.72])"
   ]
  },
  {
   "cell_type": "code",
   "execution_count": 5,
   "metadata": {
    "nbgrader": {
     "grade": false,
     "grade_id": "cell-e0a4e5deea9187c4",
     "locked": false,
     "schema_version": 3,
     "solution": true,
     "task": false
    }
   },
   "outputs": [],
   "source": [
    "# Dica: T(°C) = (T(°F) - 32) × 5/9\n",
    "def get_ceusius(F):\n",
    "    \"\"\"retorne um array contendo as temperaturas em graus Ceusius\n",
    "    \"\"\"\n",
    "    ### BEGIN SOLUTION\n",
    "    return ((F-32)*5/9).round(decimals=2)\n",
    "    ### END SOLUTION"
   ]
  },
  {
   "cell_type": "code",
   "execution_count": 6,
   "metadata": {},
   "outputs": [],
   "source": [
    "## Faça seus testes aqui\n",
    "\n"
   ]
  },
  {
   "cell_type": "code",
   "execution_count": 7,
   "metadata": {
    "nbgrader": {
     "grade": true,
     "grade_id": "cell-30d325468b6f6a67",
     "locked": true,
     "points": 1,
     "schema_version": 3,
     "solution": false,
     "task": false
    }
   },
   "outputs": [],
   "source": [
    "# Validação para nota\n",
    "tf = np.array([0, 12, 45.21, 34, 99.91])\n",
    "tc = np.array([-17.78, -11.11, 7.34, 1.11, 37.73])\n",
    "assert (get_ceusius(tf) == tc).all()"
   ]
  },
  {
   "cell_type": "code",
   "execution_count": null,
   "metadata": {},
   "outputs": [],
   "source": []
  }
 ],
 "metadata": {
  "celltoolbar": "Create Assignment",
  "kernelspec": {
   "display_name": "Python 3",
   "language": "python",
   "name": "python3"
  },
  "language_info": {
   "codemirror_mode": {
    "name": "ipython",
    "version": 3
   },
   "file_extension": ".py",
   "mimetype": "text/x-python",
   "name": "python",
   "nbconvert_exporter": "python",
   "pygments_lexer": "ipython3",
   "version": "3.8.4"
  }
 },
 "nbformat": 4,
 "nbformat_minor": 4
}
