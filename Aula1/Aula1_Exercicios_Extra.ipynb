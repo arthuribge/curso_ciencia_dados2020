{
 "cells": [
  {
   "cell_type": "markdown",
   "metadata": {},
   "source": [
    "# Aula 1 - Exercícios Extra - Sintaxe de Python e NumPy Array\n",
    "### Consulta a internet (Google, Stackoverflow e etc) liberada!!"
   ]
  },
  {
   "cell_type": "markdown",
   "metadata": {},
   "source": [
    "#### Fonte dos exercícios:\n",
    "1 - https://www.w3resource.com/python-exercises/python-basic-exercises.php\n",
    "\n",
    "2 - https://www.practicepython.org/    "
   ]
  },
  {
   "cell_type": "markdown",
   "metadata": {},
   "source": [
    "### 1.11 Escreva uma função em Python receba como parâmetro duas listas de numeros inteiros e retorne os elementos que são comuns entre elas (sem repetição). Use a sintaxe inline (list comprehension).\n",
    "##### Exemplo: a = [1, 1, 2, 3, 5, 8, 13, 21, 34, 55, 89] e b = [1, 2, 3, 4, 5, 6, 7, 8, 9, 10, 11, 12, 13]\n",
    "##### Resultado esperado: "
   ]
  },
  {
   "cell_type": "code",
   "execution_count": 2,
   "metadata": {
    "nbgrader": {
     "grade": false,
     "grade_id": "cell-a2f686fdd79e4f51",
     "locked": false,
     "schema_version": 3,
     "solution": true,
     "task": false
    }
   },
   "outputs": [],
   "source": [
    "# Dica: aninhe na mesma instrução o loope (for) e a condição (if)\n",
    "def intersecao(a, b):\n",
    "    \"\"\"retorne os valor presentes nas duas listas\n",
    "    \"\"\"\n",
    "    ### BEGIN SOLUTION\n",
    "    return [i for i in a if i in b]\n",
    "    ### END SOLUTION"
   ]
  },
  {
   "cell_type": "code",
   "execution_count": 3,
   "metadata": {},
   "outputs": [],
   "source": [
    "## Faça seus testes aqui\n"
   ]
  },
  {
   "cell_type": "code",
   "execution_count": 5,
   "metadata": {
    "nbgrader": {
     "grade": true,
     "grade_id": "cell-5412543179b17057",
     "locked": true,
     "points": 1,
     "schema_version": 3,
     "solution": false,
     "task": false
    }
   },
   "outputs": [],
   "source": [
    "# Validação para nota\n",
    "a = [1, 1, 2, 3, 5, 8, 13, 21, 34, 55, 89] \n",
    "b = [1, 2, 3, 4, 5, 6, 7, 8, 9, 10, 11, 12, 13]\n",
    "assert intersecao(a,b) == [1, 1, 2, 3, 5, 8, 13]"
   ]
  },
  {
   "cell_type": "markdown",
   "metadata": {},
   "source": [
    "### 1.12 Escreva uma função que receba uma lista de inteiros como parâmetro e retorne um dicionário com as chaves sendo os elementos da lista, e os valores sendo os elementos da mesma lista, mas na ordem inversa.\n",
    "#### Exemplo: para a lista [1, 2, 3, 4, 5]\n",
    "#### Resultado esperado: {1: 5, 2: 4, 3: 3, 4: 2, 5: 1}"
   ]
  },
  {
   "cell_type": "code",
   "execution_count": 7,
   "metadata": {
    "nbgrader": {
     "grade": false,
     "grade_id": "cell-2e044a5f0541da37",
     "locked": false,
     "schema_version": 3,
     "solution": true,
     "task": false
    }
   },
   "outputs": [],
   "source": [
    "# Dica: use a função zip. Ela retorna itens agrupados dois a dois.\n",
    "def create_dict(lista):\n",
    "    \"\"\"retorne o maior item da lista\n",
    "    \"\"\"\n",
    "    ### BEGIN SOLUTION\n",
    "    mapping = dict(zip(lista, reversed(lista)))\n",
    "    return mapping\n",
    "    ### END SOLUTION"
   ]
  },
  {
   "cell_type": "code",
   "execution_count": 1,
   "metadata": {},
   "outputs": [],
   "source": [
    "## Faça seus testes aqui\n",
    "\n"
   ]
  },
  {
   "cell_type": "code",
   "execution_count": 10,
   "metadata": {
    "nbgrader": {
     "grade": true,
     "grade_id": "cell-5bd4079b37b6a7f3",
     "locked": true,
     "points": 1,
     "schema_version": 3,
     "solution": false,
     "task": false
    }
   },
   "outputs": [],
   "source": [
    "# Validação para nota\n",
    "assert create_dict([1, 2, 3, 4, 5]) == {1: 5, 2: 4, 3: 3, 4: 2, 5: 1}\n",
    "assert create_dict([-100,-1580,-1,-9100,-77]) == {-100: -77, -1580: -9100, -1: -1, -9100: -1580, -77: -100}"
   ]
  },
  {
   "cell_type": "markdown",
   "metadata": {},
   "source": [
    "### 1.13 Escreva uma função que receba como entrada uma string conforme apresentada a seguir e retorne uma lista contendo a população dos 3 Estados brasileiros mais populosos.\n",
    "\n",
    "\"\"\"Acre=881935; Alagoas=3337357; Amapá=845731; Amazonas=4144597; Ceará=9132078;\n",
    " Distrito Federal=3015268; Espírito Santo=4018650; Goiás=7018354; Maranhão=7075181;\n",
    " Mato Grosso=3484466; Mato Grosso do Sul=2778986; Minas Gerais=21168791;\n",
    " Paraíba=4018127; Paraná=11433957; Pernambuco=9557071; Piauí=3273227; Rio de Janeiro=17264943;\n",
    " Rio Grande do Norte=3506853; Rio Grande do Sul=11377239; Rondônia=1777225;\n",
    " Roraima=605761; Santa Catarina=7164788; São Paulo=45919049; Sergipe=2298696;\n",
    " Tocantins=1572866; Bahia=14873064; Pará=8602865\"\"\"\n",
    "\n",
    "#### Nesta string, a informação de cada Estado está separada por um ;\n",
    " "
   ]
  },
  {
   "cell_type": "code",
   "execution_count": 5,
   "metadata": {
    "nbgrader": {
     "grade": false,
     "grade_id": "cell-5420c3983940f212",
     "locked": false,
     "schema_version": 3,
     "solution": true,
     "task": false
    },
    "pixiedust": {
     "displayParams": {}
    }
   },
   "outputs": [],
   "source": [
    "# Dica 1: A função split quebra uma string numa lista baseado no caracter \n",
    "#         de separação especificado. \n",
    "#         Exemplo: '1,2,3'.split(',') retorna a lista ['1','2','3']\n",
    "# Dica 2: a função .sort de uma lista ordena a referida lista\n",
    "\n",
    "\n",
    "def top3_estados(lista_texto):\n",
    "    \"\"\"retorne os 3 estados de maior população. O parâmetro de entrada deve ser uma string\n",
    "         conforme apresentado na descrição do exercício.\n",
    "    \"\"\"\n",
    "    ### BEGIN SOLUTION\n",
    "    estados = {}\n",
    "    for l in lista_texto.split(\";\"):\n",
    "        ep = l.split(\"=\")\n",
    "        estados[ep[0]] = int(ep[1])\n",
    "    pop = list(estados.values())\n",
    "    pop.sort(reverse=True)\n",
    "    return pop[0:3]\n",
    "    ### END SOLUTION"
   ]
  },
  {
   "cell_type": "code",
   "execution_count": 6,
   "metadata": {},
   "outputs": [],
   "source": [
    "## Faça seus testes aqui\n",
    "\n"
   ]
  },
  {
   "cell_type": "code",
   "execution_count": 8,
   "metadata": {
    "nbgrader": {
     "grade": true,
     "grade_id": "cell-f86ec02e2bcb84c6",
     "locked": true,
     "points": 1,
     "schema_version": 3,
     "solution": false,
     "task": false
    },
    "scrolled": true
   },
   "outputs": [],
   "source": [
    "# Validação para nota\n",
    "lista_estados=\"\"\"Acre=881935; Alagoas=3337357; Amapá=845731; Amazonas=4144597; Ceará=9132078;\\\n",
    " Distrito Federal=3015268; Espírito Santo=4018650; Goiás=7018354; Maranhão=7075181;\\\n",
    " Mato Grosso=3484466; Mato Grosso do Sul=2778986; Minas Gerais=21168791;\\\n",
    " Paraíba=4018127; Paraná=11433957; Pernambuco=9557071; Piauí=3273227; Rio de Janeiro=17264943;\\\n",
    " Rio Grande do Norte=3506853; Rio Grande do Sul=11377239; Rondônia=1777225;\\\n",
    " Roraima=605761; Santa Catarina=7164788; São Paulo=45919049; Sergipe=2298696;\\\n",
    " Tocantins=1572866; Bahia=14873064; Pará=8602865\"\"\"\n",
    "\n",
    "assert top3_estados(lista_estados) == [45919049, 21168791, 17264943]"
   ]
  },
  {
   "cell_type": "markdown",
   "metadata": {},
   "source": [
    "### 1.14 Escreva uma função Python que aceite como entrada uma string de palavras separadas por vírgula e retorne uma string com as palavras em ordem alfabética e separadas por vírgula. \n",
    "#### Exemplo:  Para t=\"hoje,nota,teste,bolsa\"\n",
    "#### Resultado Esperado: \"bolsa,hoje,nota,teste\""
   ]
  },
  {
   "cell_type": "code",
   "execution_count": 9,
   "metadata": {
    "nbgrader": {
     "grade": false,
     "grade_id": "cell-bb9537795a06bd7e",
     "locked": false,
     "schema_version": 3,
     "solution": true,
     "task": false
    }
   },
   "outputs": [],
   "source": [
    "# Dica: use as funções .split e .join presente nas strings\n",
    "def sort_words(words):\n",
    "    \"\"\"retorne uma string ordenada de palavras separadas por vírgula\n",
    "    \"\"\"\n",
    "    ### BEGIN SOLUTION\n",
    "    lw = words.split(',')\n",
    "    lw.sort()\n",
    "    return \",\".join(lw)\n",
    "    ### END SOLUTION"
   ]
  },
  {
   "cell_type": "code",
   "execution_count": 10,
   "metadata": {},
   "outputs": [],
   "source": [
    "## Faça seus testes aqui\n",
    "\n"
   ]
  },
  {
   "cell_type": "code",
   "execution_count": 11,
   "metadata": {
    "nbgrader": {
     "grade": true,
     "grade_id": "cell-61d03fd9d1b0eb4e",
     "locked": true,
     "points": 1,
     "schema_version": 3,
     "solution": false,
     "task": false
    }
   },
   "outputs": [],
   "source": [
    "# Validação para nota\n",
    "assert sort_words(\"hoje,nota,teste,bolsa\") == \"bolsa,hoje,nota,teste\"\n"
   ]
  }
 ],
 "metadata": {
  "kernelspec": {
   "display_name": "Python 3",
   "language": "python",
   "name": "python3"
  },
  "language_info": {
   "codemirror_mode": {
    "name": "ipython",
    "version": 3
   },
   "file_extension": ".py",
   "mimetype": "text/x-python",
   "name": "python",
   "nbconvert_exporter": "python",
   "pygments_lexer": "ipython3",
   "version": "3.6.10"
  }
 },
 "nbformat": 4,
 "nbformat_minor": 4
}
